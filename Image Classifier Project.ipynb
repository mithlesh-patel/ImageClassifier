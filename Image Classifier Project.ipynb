{
 "cells": [
  {
   "cell_type": "markdown",
   "metadata": {},
   "source": [
    "# Developing an AI application\n",
    "\n",
    "Going forward, AI algorithms will be incorporated into more and more everyday applications. For example, you might want to include an image classifier in a smart phone app. To do this, you'd use a deep learning model trained on hundreds of thousands of images as part of the overall application architecture. A large part of software development in the future will be using these types of models as common parts of applications. \n",
    "\n",
    "In this project, you'll train an image classifier to recognize different species of flowers. You can imagine using something like this in a phone app that tells you the name of the flower your camera is looking at. In practice you'd train this classifier, then export it for use in your application. We'll be using [this dataset](http://www.robots.ox.ac.uk/~vgg/data/flowers/102/index.html) of 102 flower categories, you can see a few examples below. \n",
    "\n",
    "<img src='assets/Flowers.png' width=500px>\n",
    "\n",
    "The project is broken down into multiple steps:\n",
    "\n",
    "* Load and preprocess the image dataset\n",
    "* Train the image classifier on your dataset\n",
    "* Use the trained classifier to predict image content\n",
    "\n",
    "We'll lead you through each part which you'll implement in Python.\n",
    "\n",
    "When you've completed this project, you'll have an application that can be trained on any set of labeled images. Here your network will be learning about flowers and end up as a command line application. But, what you do with your new skills depends on your imagination and effort in building a dataset. For example, imagine an app where you take a picture of a car, it tells you what the make and model is, then looks up information about it. Go build your own dataset and make something new.\n",
    "\n",
    "First up is importing the packages you'll need. It's good practice to keep all the imports at the beginning of your code. As you work through this notebook and find you need to import a package, make sure to add the import up here."
   ]
  },
  {
   "cell_type": "code",
   "execution_count": 1,
   "metadata": {},
   "outputs": [],
   "source": [
    "# Imports here\n",
    "import torch\n",
    "import torch.nn as nn\n",
    "import torch.utils.data as data\n",
    "import torch.optim as optim\n",
    "import torchvision\n",
    "import torchvision.transforms as transforms\n",
    "import torchvision.datasets as datasets\n",
    "import torchvision.models as models\n",
    "import PIL.Image as Image\n",
    "from collections import OrderedDict\n",
    "from copy import deepcopy\n",
    "from time import time\n",
    "from workspace_utils import keep_awake, active_session\n",
    "# Importing pandas as data management seems easier when in dataframe\n",
    "import pandas as pd\n",
    "import seaborn as sns\n",
    "import json\n",
    "import numpy as np\n",
    "\n",
    "import matplotlib.pyplot as plt\n",
    "%matplotlib inline"
   ]
  },
  {
   "cell_type": "markdown",
   "metadata": {},
   "source": [
    "## Load the data\n",
    "\n",
    "Here you'll use `torchvision` to load the data ([documentation](http://pytorch.org/docs/0.3.0/torchvision/index.html)). The data should be included alongside this notebook, otherwise you can [download it here](https://s3.amazonaws.com/content.udacity-data.com/nd089/flower_data.tar.gz). The dataset is split into three parts, training, validation, and testing. For the training, you'll want to apply transformations such as random scaling, cropping, and flipping. This will help the network generalize leading to better performance. You'll also need to make sure the input data is resized to 224x224 pixels as required by the pre-trained networks.\n",
    "\n",
    "The validation and testing sets are used to measure the model's performance on data it hasn't seen yet. For this you don't want any scaling or rotation transformations, but you'll need to resize then crop the images to the appropriate size.\n",
    "\n",
    "The pre-trained networks you'll use were trained on the ImageNet dataset where each color channel was normalized separately. For all three sets you'll need to normalize the means and standard deviations of the images to what the network expects. For the means, it's `[0.485, 0.456, 0.406]` and for the standard deviations `[0.229, 0.224, 0.225]`, calculated from the ImageNet images.  These values will shift each color channel to be centered at 0 and range from -1 to 1.\n",
    " "
   ]
  },
  {
   "cell_type": "code",
   "execution_count": 2,
   "metadata": {},
   "outputs": [],
   "source": [
    "data_dir = 'flowers'\n",
    "train_dir = data_dir + '/train'\n",
    "valid_dir = data_dir + '/valid'\n",
    "test_dir = data_dir + '/test'"
   ]
  },
  {
   "cell_type": "code",
   "execution_count": 3,
   "metadata": {},
   "outputs": [],
   "source": [
    "# TODO: Define your transforms for the training, validation, and testing sets\n",
    "# While training model, RandomRotation, RandomResized etc. has been used to train model on randomly organised images.\n",
    "# This will avoid overfitting or reduce the chances of model remembering the images\n",
    "\n",
    "data_transforms = {\n",
    "   'train': transforms.Compose([\n",
    "       transforms.RandomRotation(30),\n",
    "       transforms.RandomResizedCrop(224),\n",
    "       transforms.RandomHorizontalFlip(),\n",
    "       transforms.ToTensor(),\n",
    "       transforms.Normalize(mean=[0.485, 0.456, 0.406], std=[0.229, 0.224, 0.225])\n",
    "   ]),\n",
    "   'valid': transforms.Compose([\n",
    "       transforms.Resize(256),\n",
    "       transforms.CenterCrop(224),\n",
    "       transforms.ToTensor(),\n",
    "       transforms.Normalize(mean=[0.485, 0.456, 0.406], std=[0.229, 0.224, 0.225])\n",
    "   ]),\n",
    "   'test': transforms.Compose([\n",
    "       transforms.Resize(256),\n",
    "       transforms.CenterCrop(224),\n",
    "       transforms.ToTensor(),\n",
    "       transforms.Normalize(mean=[0.485, 0.456, 0.406], std=[0.229, 0.224, 0.225])\n",
    "   ])\n",
    "}\n",
    "\n",
    "# TODO: Load the datasets with ImageFolder\n",
    "\n",
    "image_datasets = {\n",
    "   'train': datasets.ImageFolder(train_dir, transform=data_transforms['train']),\n",
    "   'valid': datasets.ImageFolder(valid_dir, transform=data_transforms['valid']),\n",
    "   'test': datasets.ImageFolder(test_dir, transform=data_transforms['test'])\n",
    "}\n",
    "\n",
    "\n",
    "# TODO: Using the image datasets and the trainforms, define the dataloaders\n",
    "\n",
    "batch_size = 32\n",
    "dataloaders = {\n",
    "   'train': data.DataLoader(image_datasets['train'], batch_size=batch_size, shuffle=True, num_workers=1),\n",
    "   'valid': data.DataLoader(image_datasets['valid'], batch_size=batch_size, shuffle=True, num_workers=1),\n",
    "   'test': data.DataLoader(image_datasets['test'], batch_size=batch_size, shuffle=True, num_workers=1)\n",
    "}"
   ]
  },
  {
   "cell_type": "markdown",
   "metadata": {},
   "source": [
    "### Label mapping\n",
    "\n",
    "You'll also need to load in a mapping from category label to category name. You can find this in the file `cat_to_name.json`. It's a JSON object which you can read in with the [`json` module](https://docs.python.org/2/library/json.html). This will give you a dictionary mapping the integer encoded categories to the actual names of the flowers."
   ]
  },
  {
   "cell_type": "code",
   "execution_count": 4,
   "metadata": {},
   "outputs": [
    {
     "name": "stdout",
     "output_type": "stream",
     "text": [
      "Total number of output: 102\n"
     ]
    }
   ],
   "source": [
    "\n",
    "\n",
    "with open('cat_to_name.json', 'r') as f:\n",
    "    cat_to_name = json.load(f)\n",
    "\n",
    "print(\"Total number of output: %d\"%len(cat_to_name))"
   ]
  },
  {
   "cell_type": "code",
   "execution_count": 5,
   "metadata": {},
   "outputs": [],
   "source": [
    "num_classes = len(cat_to_name.keys())\n",
    "#print('Number of classes to learn: {}'.format(num_classes))"
   ]
  },
  {
   "cell_type": "markdown",
   "metadata": {},
   "source": [
    "# Building and training the classifier\n",
    "\n",
    "Now that the data is ready, it's time to build and train the classifier. As usual, you should use one of the pretrained models from `torchvision.models` to get the image features. Build and train a new feed-forward classifier using those features.\n",
    "\n",
    "We're going to leave this part up to you. Refer to [the rubric](https://review.udacity.com/#!/rubrics/1663/view) for guidance on successfully completing this section. Things you'll need to do:\n",
    "\n",
    "* Load a [pre-trained network](http://pytorch.org/docs/master/torchvision/models.html) (If you need a starting point, the VGG networks work great and are straightforward to use)\n",
    "* Define a new, untrained feed-forward network as a classifier, using ReLU activations and dropout\n",
    "* Train the classifier layers using backpropagation using the pre-trained network to get the features\n",
    "* Track the loss and accuracy on the validation set to determine the best hyperparameters\n",
    "\n",
    "We've left a cell open for you below, but use as many as you need. Our advice is to break the problem up into smaller parts you can run separately. Check that each part is doing what you expect, then move on to the next. You'll likely find that as you work through each part, you'll need to go back and modify your previous code. This is totally normal!\n",
    "\n",
    "When training make sure you're updating only the weights of the feed-forward network. You should be able to get the validation accuracy above 70% if you build everything right. Make sure to try different hyperparameters (learning rate, units in the classifier, epochs, etc) to find the best model. Save those hyperparameters to use as default values in the next part of the project.\n",
    "\n",
    "One last important tip if you're using the workspace to run your code: To avoid having your workspace disconnect during the long-running tasks in this notebook, please read in the earlier page in this lesson called Intro to\n",
    "GPU Workspaces about Keeping Your Session Active. You'll want to include code from the workspace_utils.py module.\n",
    "\n",
    "**Note for Workspace users:** If your network is over 1 GB when saved as a checkpoint, there might be issues with saving backups in your workspace. Typically this happens with wide dense layers after the convolutional layers. If your saved checkpoint is larger than 1 GB (you can open a terminal and check with `ls -lh`), you should reduce the size of your hidden layers and train again."
   ]
  },
  {
   "cell_type": "code",
   "execution_count": 6,
   "metadata": {},
   "outputs": [
    {
     "name": "stderr",
     "output_type": "stream",
     "text": [
      "Downloading: \"https://download.pytorch.org/models/vgg16-397923af.pth\" to /root/.torch/models/vgg16-397923af.pth\n",
      "100%|██████████| 553433881/553433881 [00:04<00:00, 116780793.87it/s]\n"
     ]
    }
   ],
   "source": [
    "# TODO: Build and train your network\n",
    "# Creating a model from pretrained vgg16 form models library\n",
    "\n",
    "model = models.vgg16(pretrained=True)\n",
    "\n",
    "# freeze the pretrained model params\n",
    "for param in model.features.parameters():\n",
    "    param.requires_grad = False\n",
    "\n",
    "# obtain & define various params for the classifier, build classifier\n",
    "# & update pre-trained model to use our newly-minted classifier\n",
    "\n",
    "network_input_size = 224 * 224\n",
    "\n",
    "# some models go straight to layers, no indices\n",
    "\n",
    "try:\n",
    "    classifier_input_size = model.classifier[0].in_features\n",
    "except:\n",
    "    classifier_input_size = model.classifier.in_features\n",
    "    \n",
    "\n",
    "classifier_output_size = num_classes\n",
    "classifier_hidden_layer_sizes = [4096, 2048, 1024]\n",
    "learning_rate = 0.001\n",
    "dropout_rate = 0.25\n",
    "epochs = 10"
   ]
  },
  {
   "cell_type": "code",
   "execution_count": 7,
   "metadata": {},
   "outputs": [],
   "source": [
    "# Function to build the network as per our requirement\n",
    "\n",
    "def build_network(in_size, hidden_layers, out_size):\n",
    "    constructed_layers = OrderedDict()\n",
    "    layers_input_output_joined = zip([in_size] + hidden_layers, hidden_layers)\n",
    "\n",
    "    for i, (layer_in, layer_out) in enumerate(layers_input_output_joined):\n",
    "        constructed_layers['{}-fc'.format(i)] = nn.Linear(layer_in, layer_out, bias=True) # introduce bias term for perf. boost\n",
    "        constructed_layers['{}-relu'.format(i)] = nn.ReLU()\n",
    "        constructed_layers['{}-dropout'.format(i)] = nn.Dropout(p=dropout_rate)\n",
    "\n",
    "   # input of the last layer is the last hidden layer\n",
    "   # introduce bias again conforming to 'best practices'\n",
    "    constructed_layers['output'] = nn.Linear(hidden_layers[-1], classifier_output_size, bias=True)\n",
    "\n",
    "   # smooth out the last layer\n",
    "    constructed_layers['output-smoothed'] = nn.LogSoftmax(dim=1)\n",
    "    classifier = nn.Sequential(constructed_layers)\n",
    "    return classifier"
   ]
  },
  {
   "cell_type": "code",
   "execution_count": 8,
   "metadata": {},
   "outputs": [],
   "source": [
    "#print(classifier_input_size, classifier_hidden_layer_sizes, classifier_output_size)"
   ]
  },
  {
   "cell_type": "code",
   "execution_count": 9,
   "metadata": {},
   "outputs": [],
   "source": [
    "model.classifier = build_network(classifier_input_size, \n",
    "                                 classifier_hidden_layer_sizes, \n",
    "                                 classifier_output_size)\n",
    "#model.classifier"
   ]
  },
  {
   "cell_type": "markdown",
   "metadata": {},
   "source": [
    "## Training and Testing your network\n",
    "\n",
    "It's good practice to test your trained network on test data, images the network has never seen either in training or validation. This will give you a good estimate for the model's performance on completely new images. Run the test images through the network and measure the accuracy, the same way you did validation. You should be able to reach around 70% accuracy on the test set if the model has been trained well."
   ]
  },
  {
   "cell_type": "code",
   "execution_count": 10,
   "metadata": {},
   "outputs": [],
   "source": [
    "# Function to train the model\n",
    "def train(model, loader, criteria, optimizer, device):\n",
    "    model.train()\n",
    "    train_loss = 0.0\n",
    "    train_correct = 0\n",
    "    for x_train, y_train in loader:\n",
    "        x_train, y_train = x_train.to(device), y_train.to(device)\n",
    "        optimizer.zero_grad()\n",
    "        with torch.set_grad_enabled(True):\n",
    "            output = model.forward(x_train)\n",
    "            loss = criteria(output, y_train)\n",
    "            loss.backward()\n",
    "            optimizer.step()\n",
    "            _,predictions = torch.max(output, 1)\n",
    "        train_loss += loss.item()\n",
    "        train_correct += (predictions == y_train.data).type(torch.FloatTensor).mean()\n",
    "    epoch_loss = train_loss / len(loader)\n",
    "    epoch_accuracy = train_correct / len(loader)\n",
    "    return epoch_loss, epoch_accuracy"
   ]
  },
  {
   "cell_type": "code",
   "execution_count": 11,
   "metadata": {},
   "outputs": [],
   "source": [
    "# TODO: Do validation on the test set\n",
    "def validation(model, loader, criteria, optimizer, device):\n",
    "    model.eval()\n",
    "    valid_loss = 0.0\n",
    "    valid_correct = 0\n",
    "\n",
    "    for x_valid, y_valid in loader:\n",
    "        x_valid, y_valid = x_valid.to(device), y_valid.to(device)\n",
    "\n",
    "        with torch.set_grad_enabled(False):\n",
    "            output = model.forward(x_valid)\n",
    "            loss = criteria(output, y_valid)\n",
    "            valid_loss += loss.item()\n",
    "            _,predictions = torch.max(output, 1)\n",
    "        valid_correct += (predictions == y_valid.data).type(torch.FloatTensor).mean()\n",
    "\n",
    "    epoch_loss = valid_loss / len(loader)\n",
    "    epoch_accuracy = valid_correct / len(loader)    \n",
    "    return epoch_loss, epoch_accuracy"
   ]
  },
  {
   "cell_type": "code",
   "execution_count": 12,
   "metadata": {},
   "outputs": [],
   "source": [
    "def testing(model, loader, criteria, optimizer, device):\n",
    "    model.eval()\n",
    "    test_loss = 0.0\n",
    "    test_correct = 0\n",
    "\n",
    "    for x_test, y_test in loader:\n",
    "        x_test, y_test = x_test.to(device), y_test.to(device)\n",
    "\n",
    "        with torch.set_grad_enabled(False):\n",
    "            output = model.forward(x_test)\n",
    "            loss = criteria(output, y_test)\n",
    "            test_loss += loss.item()\n",
    "            _,predictions = torch.max(output, 1)\n",
    "        test_correct += (predictions == y_test.data).type(torch.FloatTensor).mean()\n",
    "\n",
    "    test_loss = test_loss / len(loader)\n",
    "    test_accuracy = test_correct / len(loader)    \n",
    "    return test_loss, test_accuracy"
   ]
  },
  {
   "cell_type": "code",
   "execution_count": 13,
   "metadata": {},
   "outputs": [],
   "source": [
    "# do training and validation\n",
    "def perform_training_and_validation(model, epochs, device, criteria, optimizer):\n",
    "    best_model_weights_so_far = deepcopy(model.state_dict())\n",
    "    best_model_accuracy_so_far = 0.0\n",
    "\n",
    "    model.to(device)\n",
    "    for epoch in range(epochs):\n",
    "        print('Current Epoch: {}/{}'.format(epoch+1, epochs))\n",
    "\n",
    "        epoch_train_loss, epoch_train_acc = train(model, dataloaders['train'], criteria, optimizer, device)\n",
    "        print(\"Train Loss : {:.4f} Train Accuracy: {:.4f}\".format(epoch_train_loss,epoch_train_acc))\n",
    "\n",
    "        epoch_val_loss, epoch_val_acc = validation(model, dataloaders['valid'], criteria, optimizer, device)\n",
    "        print(\"Validation Loss : {:.4f} Validation Accuracy {:.4f}\".format(epoch_val_loss,epoch_val_acc))\n",
    "        print('-' * 10)\n",
    "        if epoch_val_acc > best_model_accuracy_so_far:\n",
    "            best_model_accuracy_so_far = epoch_val_acc\n",
    "\n",
    "    best_model_weights_so_far = deepcopy(model.state_dict())\n",
    "    print('Training Complete')\n",
    "    print('Best Model Accuracy: {}'.format(best_model_accuracy_so_far))\n",
    "    return best_model_accuracy_so_far, best_model_weights_so_far"
   ]
  },
  {
   "cell_type": "code",
   "execution_count": null,
   "metadata": {},
   "outputs": [
    {
     "name": "stdout",
     "output_type": "stream",
     "text": [
      "Current Epoch: 1/2\n",
      "Train Loss : 3.1798 Train Accuracy: 0.2573\n",
      "Validation Loss : 1.5762 Validation Accuracy 0.5447\n",
      "----------\n",
      "Current Epoch: 2/2\n"
     ]
    }
   ],
   "source": [
    "# run the training and validation steps above\n",
    "\n",
    "device = torch.device('cuda:0' if torch.cuda.is_available() else 'cpu')\n",
    "criteria = nn.NLLLoss() # according to pytorch docu, useful to train classification with C classes\n",
    "optimizer = optim.Adam(model.classifier.parameters(), lr=learning_rate)\n",
    "# optimizer = optim.SGD(model.classifier.parameters(), lr = 0.005, momentum = 0.5)\n",
    "with active_session():\n",
    "    best_model_acc, best_model_weights = perform_training_and_validation(model, 2, device, criteria, optimizer)\n",
    "    model.load_state_dict(best_model_weights)"
   ]
  },
  {
   "cell_type": "code",
   "execution_count": null,
   "metadata": {},
   "outputs": [],
   "source": [
    "# testing\n",
    "with active_session():\n",
    "    test_loss_n_accuracy = testing(model, dataloaders['test'], criteria, optimizer, device)\n",
    "    \n",
    "print(\"Test Loss: %.2f | Test Accuracy: %.2f \"%test_loss_n_accuracy) "
   ]
  },
  {
   "cell_type": "markdown",
   "metadata": {},
   "source": [
    "## Save the checkpoint\n",
    "\n",
    "Now that your network is trained, save the model so you can load it later for making predictions. You probably want to save other things such as the mapping of classes to indices which you get from one of the image datasets: `image_datasets['train'].class_to_idx`. You can attach this to the model as an attribute which makes inference easier later on.\n",
    "\n",
    "```model.class_to_idx = image_datasets['train'].class_to_idx```\n",
    "\n",
    "Remember that you'll want to completely rebuild the model later so you can use it for inference. Make sure to include any information you need in the checkpoint. If you want to load the model and keep training, you'll want to save the number of epochs as well as the optimizer state, `optimizer.state_dict`. You'll likely want to use this trained model in the next part of the project, so best to save it now."
   ]
  },
  {
   "cell_type": "code",
   "execution_count": null,
   "metadata": {},
   "outputs": [],
   "source": [
    "#Add classes to model\n",
    "model.class_to_idx = image_datasets['train'].class_to_idx\n"
   ]
  },
  {
   "cell_type": "code",
   "execution_count": null,
   "metadata": {},
   "outputs": [],
   "source": [
    "# save model and other information\n",
    "checkpoint={'classifier': model.classifier,\n",
    "            'class_to_idx' : model.class_to_idx,\n",
    "            'epochs': epochs,\n",
    "            'model_state_dict': model.state_dict(),\n",
    "            'optimizer_state_dict': optimizer.state_dict()}\n",
    "torch.save(checkpoint,'checkpoint.pth')"
   ]
  },
  {
   "cell_type": "markdown",
   "metadata": {},
   "source": [
    "## Loading the checkpoint\n",
    "\n",
    "At this point it's good to write a function that can load a checkpoint and rebuild the model. That way you can come back to this project and keep working on it without having to retrain the network."
   ]
  },
  {
   "cell_type": "code",
   "execution_count": null,
   "metadata": {},
   "outputs": [],
   "source": [
    "# TODO: Write a function that loads a checkpoint and rebuilds the model\n",
    "def load_n_rebuild(checkpointFilePath):\n",
    "    model_state = torch.load(checkpointFilePath)\n",
    "    model = models.vgg16(pretrained=True)\n",
    "    model.classifier = model_state['classifier']\n",
    "    model.load_state_dict(model_state['model_state_dict'])\n",
    "    model.class_to_idx = model_state['class_to_idx']\n",
    "    \n",
    "    \n",
    "    return model"
   ]
  },
  {
   "cell_type": "code",
   "execution_count": null,
   "metadata": {},
   "outputs": [],
   "source": [
    "new_model = load_n_rebuild('checkpoint.pth')\n",
    "new_model = new_model.to(device)\n",
    "#print(new_model)"
   ]
  },
  {
   "cell_type": "markdown",
   "metadata": {},
   "source": [
    "# Inference for classification\n",
    "\n",
    "Now you'll write a function to use a trained network for inference. That is, you'll pass an image into the network and predict the class of the flower in the image. Write a function called `predict` that takes an image and a model, then returns the top $K$ most likely classes along with the probabilities. It should look like \n",
    "\n",
    "```python\n",
    "probs, classes = predict(image_path, model)\n",
    "print(probs)\n",
    "print(classes)\n",
    "> [ 0.01558163  0.01541934  0.01452626  0.01443549  0.01407339]\n",
    "> ['70', '3', '45', '62', '55']\n",
    "```\n",
    "\n",
    "First you'll need to handle processing the input image such that it can be used in your network. \n",
    "\n",
    "## Image Preprocessing\n",
    "\n",
    "You'll want to use `PIL` to load the image ([documentation](https://pillow.readthedocs.io/en/latest/reference/Image.html)). It's best to write a function that preprocesses the image so it can be used as input for the model. This function should process the images in the same manner used for training. \n",
    "\n",
    "First, resize the images where the shortest side is 256 pixels, keeping the aspect ratio. This can be done with the [`thumbnail`](http://pillow.readthedocs.io/en/3.1.x/reference/Image.html#PIL.Image.Image.thumbnail) or [`resize`](http://pillow.readthedocs.io/en/3.1.x/reference/Image.html#PIL.Image.Image.thumbnail) methods. Then you'll need to crop out the center 224x224 portion of the image.\n",
    "\n",
    "Color channels of images are typically encoded as integers 0-255, but the model expected floats 0-1. You'll need to convert the values. It's easiest with a Numpy array, which you can get from a PIL image like so `np_image = np.array(pil_image)`.\n",
    "\n",
    "As before, the network expects the images to be normalized in a specific way. For the means, it's `[0.485, 0.456, 0.406]` and for the standard deviations `[0.229, 0.224, 0.225]`. You'll want to subtract the means from each color channel, then divide by the standard deviation. \n",
    "\n",
    "And finally, PyTorch expects the color channel to be the first dimension but it's the third dimension in the PIL image and Numpy array. You can reorder dimensions using [`ndarray.transpose`](https://docs.scipy.org/doc/numpy-1.13.0/reference/generated/numpy.ndarray.transpose.html). The color channel needs to be first and retain the order of the other two dimensions."
   ]
  },
  {
   "cell_type": "code",
   "execution_count": null,
   "metadata": {},
   "outputs": [],
   "source": [
    "\n",
    "def process_image(image_location):\n",
    "    \n",
    "    image = Image.open(image_location)\n",
    "    \n",
    "    # Resize and crop out the center 224x224 square\n",
    "    aspect = image.size[0]/image.size[1]\n",
    "    if aspect > 0:\n",
    "        image.thumbnail((10000, 256))\n",
    "    else:\n",
    "        image.thumbnail((256, 10000))\n",
    "        \n",
    "    left_margin = (image.width-224)/2\n",
    "    top_margin = (image.height-224)/2\n",
    "    \n",
    "    image = image.crop((left_margin, top_margin, left_margin+224, top_margin+224))\n",
    "\n",
    "    # Now normalize...\n",
    "    image = np.array(image)/255\n",
    "    mean = np.array([0.485, 0.456, 0.406])\n",
    "    std = np.array([0.229, 0.224, 0.225])\n",
    "    image = (image - mean)/std\n",
    "\n",
    "    # Move color channels to first dimension as expected by PyTorch\n",
    "    image = image.transpose((2, 0, 1))\n",
    "   \n",
    "\n",
    "    return image\n",
    "    \n",
    "    \n",
    "    \n"
   ]
  },
  {
   "cell_type": "markdown",
   "metadata": {},
   "source": [
    "To check your work, the function below converts a PyTorch tensor and displays it in the notebook. If your `process_image` function works, running the output through this function should return the original image (except for the cropped out portions)."
   ]
  },
  {
   "cell_type": "code",
   "execution_count": null,
   "metadata": {},
   "outputs": [],
   "source": [
    "def imshow(image, ax=None, title=None):\n",
    "    \"\"\"Imshow for Tensor.\"\"\"\n",
    "    \n",
    "\n",
    "    if ax is None:\n",
    "        fig, ax = plt.subplots()\n",
    "    \n",
    "    # PyTorch tensors assume the color channel is the first dimension\n",
    "    # but matplotlib assumes is the third dimension\n",
    "    image = image.transpose((1, 2, 0))\n",
    "    \n",
    "    # Undo preprocessing\n",
    "    mean = np.array([0.485, 0.456, 0.406])\n",
    "    std = np.array([0.229, 0.224, 0.225])\n",
    "    image = std * image + mean\n",
    "    \n",
    "    # Image needs to be clipped between 0 and 1 or it looks like noise when displayed\n",
    "    image = np.clip(image, 0, 1)\n",
    "    \n",
    "    ax.imshow(image)\n",
    "    \n",
    "    return ax"
   ]
  },
  {
   "cell_type": "markdown",
   "metadata": {},
   "source": [
    "## Class Prediction\n",
    "\n",
    "Once you can get images in the correct format, it's time to write a function for making predictions with your model. A common practice is to predict the top 5 or so (usually called top-$K$) most probable classes. You'll want to calculate the class probabilities then find the $K$ largest values.\n",
    "\n",
    "To get the top $K$ largest values in a tensor use [`x.topk(k)`](http://pytorch.org/docs/master/torch.html#torch.topk). This method returns both the highest `k` probabilities and the indices of those probabilities corresponding to the classes. You need to convert from these indices to the actual class labels using `class_to_idx` which hopefully you added to the model or from an `ImageFolder` you used to load the data ([see here](#Save-the-checkpoint)). Make sure to invert the dictionary so you get a mapping from index to class as well.\n",
    "\n",
    "Again, this method should take a path to an image and a model checkpoint, then return the probabilities and classes.\n",
    "\n",
    "```python\n",
    "probs, classes = predict(image_path, model)\n",
    "print(probs)\n",
    "print(classes)\n",
    "> [ 0.01558163  0.01541934  0.01452626  0.01443549  0.01407339]\n",
    "> ['70', '3', '45', '62', '55']\n",
    "```"
   ]
  },
  {
   "cell_type": "code",
   "execution_count": null,
   "metadata": {},
   "outputs": [],
   "source": [
    "def predict(image_path, model, topk=5):\n",
    "    #image = Image.open(image_path)\n",
    "    image = process_image(image_path)\n",
    "    print(\"Image shape after processing: \",image.shape)\n",
    "    image = torch.from_numpy(image).type(torch.FloatTensor)\n",
    "    image = image.unsqueeze(0)  \n",
    "    model = model.cpu()\n",
    "    logps = model.forward(image)\n",
    "    ps = torch.exp(logps)\n",
    "    top_p, top_class = ps.topk(topk)\n",
    "        \n",
    "    return top_p, top_class"
   ]
  },
  {
   "cell_type": "code",
   "execution_count": null,
   "metadata": {},
   "outputs": [],
   "source": [
    "image_path = 'flowers/test/19/image_06159.jpg'\n",
    "\n",
    "img = process_image(image_path)"
   ]
  },
  {
   "cell_type": "code",
   "execution_count": null,
   "metadata": {},
   "outputs": [],
   "source": [
    "\n",
    "probs, classes = predict(image_path, new_model)\n",
    "\n"
   ]
  },
  {
   "cell_type": "code",
   "execution_count": null,
   "metadata": {},
   "outputs": [],
   "source": [
    "\n",
    "# Function returns cuda tensors, convert to numpy array\n",
    "probs = probs.type(torch.FloatTensor).to('cpu').detach().numpy()\n",
    "classes = classes.type(torch.FloatTensor).to('cpu').detach().numpy()\n",
    "classes = classes.astype(int)\n",
    "classes = classes.astype(str)"
   ]
  },
  {
   "cell_type": "code",
   "execution_count": null,
   "metadata": {},
   "outputs": [],
   "source": [
    "#print(classes)\n",
    "#print(probs)"
   ]
  },
  {
   "cell_type": "code",
   "execution_count": null,
   "metadata": {},
   "outputs": [],
   "source": [
    "classes = [item for sublist in classes for item in sublist]\n",
    "probs = [item for sublist in probs for item in sublist]\n",
    "#print(classes)\n",
    "#print(probs)"
   ]
  },
  {
   "cell_type": "code",
   "execution_count": null,
   "metadata": {},
   "outputs": [],
   "source": [
    "class_names=[]\n",
    "class_id=[]\n",
    "class_prob=[]\n",
    "for i in range(len(classes)):\n",
    "    if classes[i]!='0':\n",
    "        class_id.append(classes[i])\n",
    "        class_names.append(cat_to_name[classes[i]])\n",
    "        class_prob.append(probs[i])\n",
    "    "
   ]
  },
  {
   "cell_type": "code",
   "execution_count": null,
   "metadata": {},
   "outputs": [],
   "source": [
    "classesTup = list(zip(class_id,class_names,class_prob))\n",
    "#classesTup"
   ]
  },
  {
   "cell_type": "code",
   "execution_count": null,
   "metadata": {},
   "outputs": [],
   "source": [
    "df = pd.DataFrame(classesTup, columns = ['Class_ID','Class_Name','Class_Prob']) \n",
    "df = df.sort_values(by=['Class_Prob','Class_Name'],ascending = False)\n",
    "likely_class = df[df['Class_Prob']==df['Class_Prob'].max()]['Class_Name']\n",
    "predicted_class=likely_class[0]"
   ]
  },
  {
   "cell_type": "code",
   "execution_count": null,
   "metadata": {},
   "outputs": [],
   "source": [
    "\n",
    "ax = sns.barplot(x='Class_Prob', y='Class_Name', data=df)\n",
    "ax.set_xlabel('Class_Prob')\n",
    "ax.set_title(predicted_class)\n",
    "ax.set_xlabel('Probabilities')\n",
    "ax.set_ylabel('Classes')\n",
    "imshow(img, ax=None, title=predicted_class)"
   ]
  },
  {
   "cell_type": "markdown",
   "metadata": {},
   "source": [
    "## Sanity Checking\n",
    "\n",
    "Now that you can use a trained model for predictions, check to make sure it makes sense. Even if the testing accuracy is high, it's always good to check that there aren't obvious bugs. Use `matplotlib` to plot the probabilities for the top 5 classes as a bar graph, along with the input image. It should look like this:\n",
    "\n",
    "<img src='assets/inference_example.png' width=300px>\n",
    "\n",
    "You can convert from the class integer encoding to actual flower names with the `cat_to_name.json` file (should have been loaded earlier in the notebook). To show a PyTorch tensor as an image, use the `imshow` function defined above."
   ]
  }
 ],
 "metadata": {
  "kernelspec": {
   "display_name": "Python 3",
   "language": "python",
   "name": "python3"
  },
  "language_info": {
   "codemirror_mode": {
    "name": "ipython",
    "version": 3
   },
   "file_extension": ".py",
   "mimetype": "text/x-python",
   "name": "python",
   "nbconvert_exporter": "python",
   "pygments_lexer": "ipython3",
   "version": "3.6.3"
  }
 },
 "nbformat": 4,
 "nbformat_minor": 2
}
